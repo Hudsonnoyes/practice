{
  "cells": [
    {
      "cell_type": "markdown",
      "id": "87b91d83",
      "metadata": {
        "id": "87b91d83"
      },
      "source": [
        "# Assignment 1\n",
        "### Understanding Uncertainty\n",
        "### Due 9/5"
      ]
    },
    {
      "cell_type": "markdown",
      "id": "380e339f",
      "metadata": {
        "id": "380e339f"
      },
      "source": [
        "1. Create a new public repo on Github under your account. Include a readme file.\n",
        "2. Clone it to your machine. Put this file into that repo.\n",
        "3. Use the following function to download the example data for the course:"
      ]
    },
    {
      "cell_type": "code",
      "execution_count": 13,
      "id": "2d62b4f6",
      "metadata": {
        "colab": {
          "base_uri": "https://localhost:8080/"
        },
        "id": "2d62b4f6",
        "outputId": "0bcfaa35-dbb9-41f7-89c1-4950d0be35aa"
      },
      "outputs": [
        {
          "name": "stdout",
          "output_type": "stream",
          "text": [
            "Download file already exists\n",
            "Data directory already exists\n"
          ]
        }
      ],
      "source": [
        "def download_data(force=False):\n",
        "    \"\"\"Download and extract course data from Zenodo.\"\"\"\n",
        "    import urllib.request, zipfile, os\n",
        "\n",
        "    zip_path = 'data.zip'\n",
        "    data_dir = 'data'\n",
        "\n",
        "    if not os.path.exists(zip_path) or force:\n",
        "        print(\"Downloading course data\")\n",
        "        urllib.request.urlretrieve(\n",
        "            'https://zenodo.org/records/16954427/files/data.zip?download=1',\n",
        "            zip_path\n",
        "        )\n",
        "        print(\"Download complete\")\n",
        "    else:\n",
        "        print(\"Download file already exists\")\n",
        "\n",
        "    if not os.path.exists(data_dir) or force:\n",
        "        print(\"Extracting data files...\")\n",
        "        with zipfile.ZipFile(zip_path, 'r') as zip_ref:\n",
        "            zip_ref.extractall(data_dir)\n",
        "        print(\"Data extracted\")\n",
        "    else:\n",
        "        print(\"Data directory already exists\")\n",
        "\n",
        "download_data()"
      ]
    },
    {
      "cell_type": "markdown",
      "id": "01db0045",
      "metadata": {
        "id": "01db0045"
      },
      "source": [
        "4. Open one of the datasets using Pandas:\n",
        "    1. `ames_prices.csv`: Housing characteristics and prices\n",
        "    2. `college_completion.csv`: Public, nonprofit, and for-profit educational institutions, graduation rates, and financial aid\n",
        "    3. `ForeignGifts_edu.csv`: Monetary and in-kind transfers from foreign entities to U.S. educational institutions\n",
        "    4. `iowa.csv`: Liquor sales in Iowa, at the transaction level\n",
        "    5. `metabric.csv`: Cancer patient and outcome data\n",
        "    6. `mn_police_use_of_force.csv`: Records of physical altercations between Minnessota police and private citizens\n",
        "    7. `nhanes_data_17_18.csv`: National Health and Nutrition Examination Survey\n",
        "    8. `tuna.csv`: Yellowfin Tuna Genome (I don't recommend this one; it's just a sequence of G, C, A, T )\n",
        "    9. `va_procurement.csv`: Public spending by the state of Virginia"
      ]
    },
    {
      "cell_type": "code",
      "execution_count": 14,
      "id": "071XLLE23iSc",
      "metadata": {
        "colab": {
          "base_uri": "https://localhost:8080/",
          "height": 256
        },
        "id": "071XLLE23iSc",
        "outputId": "edb5663b-85aa-48f0-8ece-3af313e51cd3"
      },
      "outputs": [
        {
          "data": {
            "text/html": [
              "<div>\n",
              "<style scoped>\n",
              "    .dataframe tbody tr th:only-of-type {\n",
              "        vertical-align: middle;\n",
              "    }\n",
              "\n",
              "    .dataframe tbody tr th {\n",
              "        vertical-align: top;\n",
              "    }\n",
              "\n",
              "    .dataframe thead th {\n",
              "        text-align: right;\n",
              "    }\n",
              "</style>\n",
              "<table border=\"1\" class=\"dataframe\">\n",
              "  <thead>\n",
              "    <tr style=\"text-align: right;\">\n",
              "      <th></th>\n",
              "      <th>Order</th>\n",
              "      <th>PID</th>\n",
              "      <th>area</th>\n",
              "      <th>price</th>\n",
              "      <th>MS.SubClass</th>\n",
              "      <th>MS.Zoning</th>\n",
              "      <th>Lot.Frontage</th>\n",
              "      <th>Lot.Area</th>\n",
              "      <th>Street</th>\n",
              "      <th>Alley</th>\n",
              "      <th>...</th>\n",
              "      <th>Screen.Porch</th>\n",
              "      <th>Pool.Area</th>\n",
              "      <th>Pool.QC</th>\n",
              "      <th>Fence</th>\n",
              "      <th>Misc.Feature</th>\n",
              "      <th>Misc.Val</th>\n",
              "      <th>Mo.Sold</th>\n",
              "      <th>Yr.Sold</th>\n",
              "      <th>Sale.Type</th>\n",
              "      <th>Sale.Condition</th>\n",
              "    </tr>\n",
              "  </thead>\n",
              "  <tbody>\n",
              "    <tr>\n",
              "      <th>0</th>\n",
              "      <td>1</td>\n",
              "      <td>526301100</td>\n",
              "      <td>1656</td>\n",
              "      <td>215000</td>\n",
              "      <td>20</td>\n",
              "      <td>RL</td>\n",
              "      <td>141.0</td>\n",
              "      <td>31770</td>\n",
              "      <td>Pave</td>\n",
              "      <td>NaN</td>\n",
              "      <td>...</td>\n",
              "      <td>0</td>\n",
              "      <td>0</td>\n",
              "      <td>NaN</td>\n",
              "      <td>NaN</td>\n",
              "      <td>NaN</td>\n",
              "      <td>0</td>\n",
              "      <td>5</td>\n",
              "      <td>2010</td>\n",
              "      <td>WD</td>\n",
              "      <td>Normal</td>\n",
              "    </tr>\n",
              "    <tr>\n",
              "      <th>1</th>\n",
              "      <td>2</td>\n",
              "      <td>526350040</td>\n",
              "      <td>896</td>\n",
              "      <td>105000</td>\n",
              "      <td>20</td>\n",
              "      <td>RH</td>\n",
              "      <td>80.0</td>\n",
              "      <td>11622</td>\n",
              "      <td>Pave</td>\n",
              "      <td>NaN</td>\n",
              "      <td>...</td>\n",
              "      <td>120</td>\n",
              "      <td>0</td>\n",
              "      <td>NaN</td>\n",
              "      <td>MnPrv</td>\n",
              "      <td>NaN</td>\n",
              "      <td>0</td>\n",
              "      <td>6</td>\n",
              "      <td>2010</td>\n",
              "      <td>WD</td>\n",
              "      <td>Normal</td>\n",
              "    </tr>\n",
              "    <tr>\n",
              "      <th>2</th>\n",
              "      <td>3</td>\n",
              "      <td>526351010</td>\n",
              "      <td>1329</td>\n",
              "      <td>172000</td>\n",
              "      <td>20</td>\n",
              "      <td>RL</td>\n",
              "      <td>81.0</td>\n",
              "      <td>14267</td>\n",
              "      <td>Pave</td>\n",
              "      <td>NaN</td>\n",
              "      <td>...</td>\n",
              "      <td>0</td>\n",
              "      <td>0</td>\n",
              "      <td>NaN</td>\n",
              "      <td>NaN</td>\n",
              "      <td>Gar2</td>\n",
              "      <td>12500</td>\n",
              "      <td>6</td>\n",
              "      <td>2010</td>\n",
              "      <td>WD</td>\n",
              "      <td>Normal</td>\n",
              "    </tr>\n",
              "    <tr>\n",
              "      <th>3</th>\n",
              "      <td>4</td>\n",
              "      <td>526353030</td>\n",
              "      <td>2110</td>\n",
              "      <td>244000</td>\n",
              "      <td>20</td>\n",
              "      <td>RL</td>\n",
              "      <td>93.0</td>\n",
              "      <td>11160</td>\n",
              "      <td>Pave</td>\n",
              "      <td>NaN</td>\n",
              "      <td>...</td>\n",
              "      <td>0</td>\n",
              "      <td>0</td>\n",
              "      <td>NaN</td>\n",
              "      <td>NaN</td>\n",
              "      <td>NaN</td>\n",
              "      <td>0</td>\n",
              "      <td>4</td>\n",
              "      <td>2010</td>\n",
              "      <td>WD</td>\n",
              "      <td>Normal</td>\n",
              "    </tr>\n",
              "    <tr>\n",
              "      <th>4</th>\n",
              "      <td>5</td>\n",
              "      <td>527105010</td>\n",
              "      <td>1629</td>\n",
              "      <td>189900</td>\n",
              "      <td>60</td>\n",
              "      <td>RL</td>\n",
              "      <td>74.0</td>\n",
              "      <td>13830</td>\n",
              "      <td>Pave</td>\n",
              "      <td>NaN</td>\n",
              "      <td>...</td>\n",
              "      <td>0</td>\n",
              "      <td>0</td>\n",
              "      <td>NaN</td>\n",
              "      <td>MnPrv</td>\n",
              "      <td>NaN</td>\n",
              "      <td>0</td>\n",
              "      <td>3</td>\n",
              "      <td>2010</td>\n",
              "      <td>WD</td>\n",
              "      <td>Normal</td>\n",
              "    </tr>\n",
              "  </tbody>\n",
              "</table>\n",
              "<p>5 rows × 82 columns</p>\n",
              "</div>"
            ],
            "text/plain": [
              "   Order        PID  area   price  MS.SubClass MS.Zoning  Lot.Frontage  \\\n",
              "0      1  526301100  1656  215000           20        RL         141.0   \n",
              "1      2  526350040   896  105000           20        RH          80.0   \n",
              "2      3  526351010  1329  172000           20        RL          81.0   \n",
              "3      4  526353030  2110  244000           20        RL          93.0   \n",
              "4      5  527105010  1629  189900           60        RL          74.0   \n",
              "\n",
              "   Lot.Area Street Alley  ... Screen.Porch Pool.Area Pool.QC  Fence  \\\n",
              "0     31770   Pave   NaN  ...            0         0     NaN    NaN   \n",
              "1     11622   Pave   NaN  ...          120         0     NaN  MnPrv   \n",
              "2     14267   Pave   NaN  ...            0         0     NaN    NaN   \n",
              "3     11160   Pave   NaN  ...            0         0     NaN    NaN   \n",
              "4     13830   Pave   NaN  ...            0         0     NaN  MnPrv   \n",
              "\n",
              "  Misc.Feature Misc.Val Mo.Sold Yr.Sold Sale.Type Sale.Condition  \n",
              "0          NaN        0       5    2010       WD          Normal  \n",
              "1          NaN        0       6    2010       WD          Normal  \n",
              "2         Gar2    12500       6    2010       WD          Normal  \n",
              "3          NaN        0       4    2010       WD          Normal  \n",
              "4          NaN        0       3    2010       WD          Normal  \n",
              "\n",
              "[5 rows x 82 columns]"
            ]
          },
          "execution_count": 14,
          "metadata": {},
          "output_type": "execute_result"
        }
      ],
      "source": [
        "import pandas as pd\n",
        "import numpy as np\n",
        "\n",
        "df = pd.read_csv('ames_prices.csv')\n",
        "df.head()"
      ]
    },
    {
      "cell_type": "markdown",
      "id": "fa5cade1",
      "metadata": {
        "id": "fa5cade1"
      },
      "source": [
        "5. Pick two or three variables and briefly analyze them\n",
        "    - Is it a categorical or numeric variable?\n",
        "    - How many missing values are there? (`df['var'].isna()` and `np.sum()`)\n",
        "    - If categorical, tabulate the values (`df['var'].value_counts()`) and if numeric, get a summary (`df['var'].describe()`)"
      ]
    },
    {
      "cell_type": "code",
      "execution_count": 15,
      "id": "0zHKOKgC3-xa",
      "metadata": {
        "colab": {
          "base_uri": "https://localhost:8080/"
        },
        "id": "0zHKOKgC3-xa",
        "outputId": "e4eb9242-733e-4a8b-f97f-c0944dfc1b1f"
      },
      "outputs": [
        {
          "name": "stdout",
          "output_type": "stream",
          "text": [
            "\n",
            "=== price ===\n",
            "Type: Numeric\n",
            "Missing values: 0\n",
            "\n",
            "Summary (df['var'].describe()):\n",
            "count      2930.000000\n",
            "mean     180796.060068\n",
            "std       79886.692357\n",
            "min       12789.000000\n",
            "25%      129500.000000\n",
            "50%      160000.000000\n",
            "75%      213500.000000\n",
            "max      755000.000000\n",
            "Name: price, dtype: float64\n",
            "\n",
            "=== MS.Zoning ===\n",
            "Type: Categorical\n",
            "Missing values: 0\n",
            "\n",
            "Value counts (df['var'].value_counts()):\n",
            "MS.Zoning\n",
            "RL         2273\n",
            "RM          462\n",
            "FV          139\n",
            "RH           27\n",
            "C (all)      25\n",
            "I (all)       2\n",
            "A (agr)       2\n",
            "Name: count, dtype: int64\n",
            "\n",
            "=== Lot.Frontage ===\n",
            "Type: Numeric\n",
            "Missing values: 490\n",
            "\n",
            "Summary (df['var'].describe()):\n",
            "count    2440.000000\n",
            "mean       69.224590\n",
            "std        23.365335\n",
            "min        21.000000\n",
            "25%        58.000000\n",
            "50%        68.000000\n",
            "75%        80.000000\n",
            "max       313.000000\n",
            "Name: Lot.Frontage, dtype: float64\n"
          ]
        }
      ],
      "source": [
        "\n",
        "\n",
        "vars_to_analyze = [\"price\", \"MS.Zoning\", \"Lot.Frontage\"]\n",
        "\n",
        "for var in vars_to_analyze:\n",
        "    print(f\"\\n=== {var} ===\")\n",
        "    \n",
        "\n",
        "    is_numeric = pd.api.types.is_numeric_dtype(df[var])\n",
        "    print(\"Type:\", \"Numeric\" if is_numeric else \"Categorical\")\n",
        "    \n",
        "\n",
        "    missing_count = np.sum(df[var].isna())\n",
        "    print(\"Missing values:\", missing_count)\n",
        "    \n",
        "\n",
        "    if is_numeric:\n",
        "        print(\"\\nSummary (df['var'].describe()):\")\n",
        "        print(df[var].describe())\n",
        "    else:\n",
        "        print(\"\\nValue counts (df['var'].value_counts()):\")\n",
        "        print(df[var].value_counts())"
      ]
    },
    {
      "cell_type": "markdown",
      "id": "dbf2318a",
      "metadata": {
        "id": "dbf2318a"
      },
      "source": [
        "6. What are some questions and prediction tools you could create using these data? Who would the stakeholder be for that prediction tool? What practical or ethical questions would it create? What other data would you want, that are not available in your data?"
      ]
    },
    {
      "cell_type": "markdown",
      "id": "7c25b816",
      "metadata": {},
      "source": [
        "You could make predictions about things like price based on the characteristics of the house. Sites like Zillow do this at a more complex level to create their Zestimate. The stakeholder would be homeowners, as well as potential buyers that could use this tool to find fair agreements on price. Ideally, this tool would help reduce friction between transactions and create social benefit through matching buyers and sellers more effectively. Other data you may want is land specific data, such as proximity to highways or factories."
      ]
    },
    {
      "cell_type": "markdown",
      "id": "a4a7ddc7",
      "metadata": {
        "id": "a4a7ddc7"
      },
      "source": [
        "7. Commit your work to the repo (`git commit -am 'Finish assignment'` at the command line, or use the Git panel in VS Code). Push your work back to Github and submit the link on Canvas in the assignment tab."
      ]
    }
  ],
  "metadata": {
    "colab": {
      "provenance": []
    },
    "kernelspec": {
      "display_name": "ds6001",
      "language": "python",
      "name": "python3"
    },
    "language_info": {
      "codemirror_mode": {
        "name": "ipython",
        "version": 3
      },
      "file_extension": ".py",
      "mimetype": "text/x-python",
      "name": "python",
      "nbconvert_exporter": "python",
      "pygments_lexer": "ipython3",
      "version": "3.13.5"
    }
  },
  "nbformat": 4,
  "nbformat_minor": 5
}
